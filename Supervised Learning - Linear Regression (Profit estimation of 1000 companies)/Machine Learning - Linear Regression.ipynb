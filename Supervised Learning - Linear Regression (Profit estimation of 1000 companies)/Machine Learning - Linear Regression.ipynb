{
 "cells": [
  {
   "cell_type": "markdown",
   "id": "5c496ff6",
   "metadata": {},
   "source": [
    "## Profit estimation of companies with linear regression"
   ]
  },
  {
   "cell_type": "code",
   "execution_count": 97,
   "id": "8a51abae",
   "metadata": {},
   "outputs": [],
   "source": [
    "#Importing the required libraries\n",
    "\n",
    "import pandas as pd\n",
    "import numpy as np\n",
    "import matplotlib.pyplot as plt\n",
    "import seaborn as sns\n",
    "\n",
    "#Allows the plot to be displayed next to the code\n",
    "%matplotlib inline"
   ]
  },
  {
   "cell_type": "code",
   "execution_count": 98,
   "id": "2b5fc235",
   "metadata": {},
   "outputs": [
    {
     "name": "stdout",
     "output_type": "stream",
     "text": [
      "   R&D Spend  Administration  Marketing Spend       State     Profit\n",
      "0  165349.20       136897.80        471784.10    New York  192261.83\n",
      "1  162597.70       151377.59        443898.53  California  191792.06\n",
      "2  153441.51       101145.55        407934.54     Florida  191050.39\n",
      "3  144372.41       118671.85        383199.62    New York  182901.99\n",
      "4  142107.34        91391.77        366168.42     Florida  166187.94\n"
     ]
    }
   ],
   "source": [
    " #Import dataset\n",
    "df = pd.DataFrame(pd.read_csv('1000_Companies.csv'))\n",
    "\n",
    "#Checking out the first few rows of the dataset\n",
    "print(df.head())"
   ]
  },
  {
   "cell_type": "code",
   "execution_count": 99,
   "id": "4b3f5688",
   "metadata": {},
   "outputs": [
    {
     "name": "stdout",
     "output_type": "stream",
     "text": [
      "R&D Spend          float64\n",
      "Administration     float64\n",
      "Marketing Spend    float64\n",
      "State               object\n",
      "Profit             float64\n",
      "dtype: object\n"
     ]
    }
   ],
   "source": [
    "# Checking out the type of data in the dataset\n",
    "print(df.dtypes)"
   ]
  },
  {
   "cell_type": "code",
   "execution_count": 100,
   "id": "ccc6a49f",
   "metadata": {},
   "outputs": [
    {
     "name": "stdout",
     "output_type": "stream",
     "text": [
      "(1000, 5)\n"
     ]
    }
   ],
   "source": [
    "#Checking the shape (# of rows, and columns) in the dataset\n",
    "print(df.shape)"
   ]
  },
  {
   "cell_type": "markdown",
   "id": "94ef2df2",
   "metadata": {},
   "source": [
    "### Data Preparation and Cleaning\n",
    "\n",
    "<ul>\n",
    "    <li>The dataset has 5 columns; 4 floats and one categorical </li>\n",
    "    <li>The next steps will check if there are misssing or invalid data</li>\n",
    "</ul>"
   ]
  },
  {
   "cell_type": "code",
   "execution_count": 101,
   "id": "961f08d6",
   "metadata": {},
   "outputs": [
    {
     "data": {
      "text/plain": [
       "R&D Spend          0\n",
       "Administration     0\n",
       "Marketing Spend    0\n",
       "State              0\n",
       "Profit             0\n",
       "dtype: int64"
      ]
     },
     "execution_count": 101,
     "metadata": {},
     "output_type": "execute_result"
    }
   ],
   "source": [
    "#Check for any null values in the dataset\n",
    "df.isnull().sum()"
   ]
  },
  {
   "cell_type": "markdown",
   "id": "f02ab55c",
   "metadata": {},
   "source": [
    "there are no null/empty values in the dataset"
   ]
  },
  {
   "cell_type": "code",
   "execution_count": 102,
   "id": "38fe2a2b",
   "metadata": {},
   "outputs": [],
   "source": [
    "#Creating the independent/predictor variables and dependent/response variables\n",
    "X = df.iloc[:,:-1] #dropping the last column (Profit)\n",
    "y = df.iloc[:,4]"
   ]
  },
  {
   "cell_type": "markdown",
   "id": "6b2f9944",
   "metadata": {},
   "source": [
    "### Data Visualisation\n",
    "Building the Correlation matrix\n"
   ]
  },
  {
   "cell_type": "code",
   "execution_count": 103,
   "id": "11904c62",
   "metadata": {},
   "outputs": [
    {
     "data": {
      "text/plain": [
       "<AxesSubplot:>"
      ]
     },
     "execution_count": 103,
     "metadata": {},
     "output_type": "execute_result"
    },
    {
     "data": {
      "image/png": "[encoded data removed]",
      "text/plain": [
       "<Figure size 432x288 with 2 Axes>"
      ]
     },
     "metadata": {
      "needs_background": "light"
     },
     "output_type": "display_data"
    }
   ],
   "source": [
    "sns.heatmap(df.corr())"
   ]
  },
  {
   "cell_type": "code",
   "execution_count": 104,
   "id": "983f96e3",
   "metadata": {},
   "outputs": [
    {
     "data": {
      "text/html": [
       "<div>\n",
       "<style scoped>\n",
       "    .dataframe tbody tr th:only-of-type {\n",
       "        vertical-align: middle;\n",
       "    }\n",
       "\n",
       "    .dataframe tbody tr th {\n",
       "        vertical-align: top;\n",
       "    }\n",
       "\n",
       "    .dataframe thead th {\n",
       "        text-align: right;\n",
       "    }\n",
       "</style>\n",
       "<table border=\"1\" class=\"dataframe\">\n",
       "  <thead>\n",
       "    <tr style=\"text-align: right;\">\n",
       "      <th></th>\n",
       "      <th>R&amp;D Spend</th>\n",
       "      <th>Administration</th>\n",
       "      <th>Marketing Spend</th>\n",
       "      <th>State</th>\n",
       "    </tr>\n",
       "  </thead>\n",
       "  <tbody>\n",
       "    <tr>\n",
       "      <th>0</th>\n",
       "      <td>165349.20</td>\n",
       "      <td>136897.800</td>\n",
       "      <td>471784.1000</td>\n",
       "      <td>New York</td>\n",
       "    </tr>\n",
       "    <tr>\n",
       "      <th>1</th>\n",
       "      <td>162597.70</td>\n",
       "      <td>151377.590</td>\n",
       "      <td>443898.5300</td>\n",
       "      <td>California</td>\n",
       "    </tr>\n",
       "    <tr>\n",
       "      <th>2</th>\n",
       "      <td>153441.51</td>\n",
       "      <td>101145.550</td>\n",
       "      <td>407934.5400</td>\n",
       "      <td>Florida</td>\n",
       "    </tr>\n",
       "    <tr>\n",
       "      <th>3</th>\n",
       "      <td>144372.41</td>\n",
       "      <td>118671.850</td>\n",
       "      <td>383199.6200</td>\n",
       "      <td>New York</td>\n",
       "    </tr>\n",
       "    <tr>\n",
       "      <th>4</th>\n",
       "      <td>142107.34</td>\n",
       "      <td>91391.770</td>\n",
       "      <td>366168.4200</td>\n",
       "      <td>Florida</td>\n",
       "    </tr>\n",
       "    <tr>\n",
       "      <th>...</th>\n",
       "      <td>...</td>\n",
       "      <td>...</td>\n",
       "      <td>...</td>\n",
       "      <td>...</td>\n",
       "    </tr>\n",
       "    <tr>\n",
       "      <th>995</th>\n",
       "      <td>54135.00</td>\n",
       "      <td>118451.999</td>\n",
       "      <td>173232.6695</td>\n",
       "      <td>California</td>\n",
       "    </tr>\n",
       "    <tr>\n",
       "      <th>996</th>\n",
       "      <td>134970.00</td>\n",
       "      <td>130390.080</td>\n",
       "      <td>329204.0228</td>\n",
       "      <td>California</td>\n",
       "    </tr>\n",
       "    <tr>\n",
       "      <th>997</th>\n",
       "      <td>100275.47</td>\n",
       "      <td>241926.310</td>\n",
       "      <td>227142.8200</td>\n",
       "      <td>California</td>\n",
       "    </tr>\n",
       "    <tr>\n",
       "      <th>998</th>\n",
       "      <td>128456.23</td>\n",
       "      <td>321652.140</td>\n",
       "      <td>281692.3200</td>\n",
       "      <td>California</td>\n",
       "    </tr>\n",
       "    <tr>\n",
       "      <th>999</th>\n",
       "      <td>161181.72</td>\n",
       "      <td>270939.860</td>\n",
       "      <td>295442.1700</td>\n",
       "      <td>New York</td>\n",
       "    </tr>\n",
       "  </tbody>\n",
       "</table>\n",
       "<p>1000 rows × 4 columns</p>\n",
       "</div>"
      ],
      "text/plain": [
       "     R&D Spend  Administration  Marketing Spend       State\n",
       "0    165349.20      136897.800      471784.1000    New York\n",
       "1    162597.70      151377.590      443898.5300  California\n",
       "2    153441.51      101145.550      407934.5400     Florida\n",
       "3    144372.41      118671.850      383199.6200    New York\n",
       "4    142107.34       91391.770      366168.4200     Florida\n",
       "..         ...             ...              ...         ...\n",
       "995   54135.00      118451.999      173232.6695  California\n",
       "996  134970.00      130390.080      329204.0228  California\n",
       "997  100275.47      241926.310      227142.8200  California\n",
       "998  128456.23      321652.140      281692.3200  California\n",
       "999  161181.72      270939.860      295442.1700    New York\n",
       "\n",
       "[1000 rows x 4 columns]"
      ]
     },
     "execution_count": 104,
     "metadata": {},
     "output_type": "execute_result"
    }
   ],
   "source": [
    "X"
   ]
  },
  {
   "cell_type": "code",
   "execution_count": 105,
   "id": "ec143a75",
   "metadata": {},
   "outputs": [
    {
     "data": {
      "text/html": [
       "<div>\n",
       "<style scoped>\n",
       "    .dataframe tbody tr th:only-of-type {\n",
       "        vertical-align: middle;\n",
       "    }\n",
       "\n",
       "    .dataframe tbody tr th {\n",
       "        vertical-align: top;\n",
       "    }\n",
       "\n",
       "    .dataframe thead th {\n",
       "        text-align: right;\n",
       "    }\n",
       "</style>\n",
       "<table border=\"1\" class=\"dataframe\">\n",
       "  <thead>\n",
       "    <tr style=\"text-align: right;\">\n",
       "      <th></th>\n",
       "      <th>R&amp;D Spend</th>\n",
       "      <th>Administration</th>\n",
       "      <th>Marketing Spend</th>\n",
       "      <th>State_</th>\n",
       "    </tr>\n",
       "  </thead>\n",
       "  <tbody>\n",
       "    <tr>\n",
       "      <th>0</th>\n",
       "      <td>165349.20</td>\n",
       "      <td>136897.80</td>\n",
       "      <td>471784.10</td>\n",
       "      <td>2</td>\n",
       "    </tr>\n",
       "    <tr>\n",
       "      <th>1</th>\n",
       "      <td>162597.70</td>\n",
       "      <td>151377.59</td>\n",
       "      <td>443898.53</td>\n",
       "      <td>0</td>\n",
       "    </tr>\n",
       "    <tr>\n",
       "      <th>2</th>\n",
       "      <td>153441.51</td>\n",
       "      <td>101145.55</td>\n",
       "      <td>407934.54</td>\n",
       "      <td>1</td>\n",
       "    </tr>\n",
       "    <tr>\n",
       "      <th>3</th>\n",
       "      <td>144372.41</td>\n",
       "      <td>118671.85</td>\n",
       "      <td>383199.62</td>\n",
       "      <td>2</td>\n",
       "    </tr>\n",
       "    <tr>\n",
       "      <th>4</th>\n",
       "      <td>142107.34</td>\n",
       "      <td>91391.77</td>\n",
       "      <td>366168.42</td>\n",
       "      <td>1</td>\n",
       "    </tr>\n",
       "  </tbody>\n",
       "</table>\n",
       "</div>"
      ],
      "text/plain": [
       "   R&D Spend  Administration  Marketing Spend  State_\n",
       "0  165349.20       136897.80        471784.10       2\n",
       "1  162597.70       151377.59        443898.53       0\n",
       "2  153441.51       101145.55        407934.54       1\n",
       "3  144372.41       118671.85        383199.62       2\n",
       "4  142107.34        91391.77        366168.42       1"
      ]
     },
     "execution_count": 105,
     "metadata": {},
     "output_type": "execute_result"
    }
   ],
   "source": [
    "#Encoding State feature from string to integers\n",
    "from sklearn import preprocessing\n",
    "le_state = preprocessing.LabelEncoder()\n",
    "le_state.fit(X['State'])\n",
    "\n",
    "list(le_state.classes_)\n",
    "\n",
    "#Transforming and dropping the Categorical State variable\n",
    "X['State_']=le_state.transform(X['State'])\n",
    "X=X.drop(columns='State',axis=1)\n",
    "X.head()"
   ]
  },
  {
   "cell_type": "markdown",
   "id": "815b924f",
   "metadata": {},
   "source": [
    "### Determining which of the predictors will be in the model\n",
    "The variability in each predictor will be observed "
   ]
  },
  {
   "cell_type": "code",
   "execution_count": 106,
   "id": "71faf300",
   "metadata": {},
   "outputs": [
    {
     "data": {
      "text/plain": [
       "<AxesSubplot:>"
      ]
     },
     "execution_count": 106,
     "metadata": {},
     "output_type": "execute_result"
    },
    {
     "data": {
      "image/png": "[encoded data removed]",
      "text/plain": [
       "<Figure size 432x288 with 1 Axes>"
      ]
     },
     "metadata": {
      "needs_background": "light"
     },
     "output_type": "display_data"
    }
   ],
   "source": [
    "df['R&D Spend'].hist(edgecolor='red')"
   ]
  },
  {
   "cell_type": "markdown",
   "id": "7717fbd6",
   "metadata": {},
   "source": [
    "the variability in the R&D Spend is good and will be included"
   ]
  },
  {
   "cell_type": "code",
   "execution_count": 107,
   "id": "ddc88ac5",
   "metadata": {},
   "outputs": [
    {
     "data": {
      "text/plain": [
       "<AxesSubplot:>"
      ]
     },
     "execution_count": 107,
     "metadata": {},
     "output_type": "execute_result"
    },
    {
     "data": {
      "image/png": "[encoded data removed]",
      "text/plain": [
       "<Figure size 432x288 with 1 Axes>"
      ]
     },
     "metadata": {
      "needs_background": "light"
     },
     "output_type": "display_data"
    }
   ],
   "source": [
    "df['Administration'].hist(edgecolor='red')"
   ]
  },
  {
   "cell_type": "markdown",
   "id": "89d14319",
   "metadata": {},
   "source": [
    "the variability in the Administration will probably be excluded"
   ]
  },
  {
   "cell_type": "code",
   "execution_count": 108,
   "id": "6e9d7fe4",
   "metadata": {},
   "outputs": [
    {
     "data": {
      "text/plain": [
       "<AxesSubplot:>"
      ]
     },
     "execution_count": 108,
     "metadata": {},
     "output_type": "execute_result"
    },
    {
     "data": {
      "image/png": "[encoded data removed]",
      "text/plain": [
       "<Figure size 432x288 with 1 Axes>"
      ]
     },
     "metadata": {
      "needs_background": "light"
     },
     "output_type": "display_data"
    }
   ],
   "source": [
    "df['Marketing Spend'].hist(edgecolor='red')"
   ]
  },
  {
   "cell_type": "markdown",
   "id": "cf143d4e",
   "metadata": {},
   "source": [
    "the variability in the Marketing Spend is good and will be included"
   ]
  },
  {
   "cell_type": "code",
   "execution_count": 109,
   "id": "6205c43f",
   "metadata": {},
   "outputs": [],
   "source": [
    "#This variable will be temporarily excluded and evaluated to see its effect on the model\n",
    "#cols_rejected = ['Administration']\n",
    "\n",
    "#X = X.drop(columns=cols_rejected,axis=1)\n",
    "#X.head()"
   ]
  },
  {
   "cell_type": "markdown",
   "id": "30bf2a55",
   "metadata": {},
   "source": [
    "### splitting dataset into train and test"
   ]
  },
  {
   "cell_type": "code",
   "execution_count": 110,
   "id": "3ef9ce9d",
   "metadata": {},
   "outputs": [],
   "source": [
    "# Splitting the dataset into the Training set and Test set\n",
    "from sklearn.model_selection import train_test_split\n",
    "X_train, X_test, y_train, y_test = train_test_split(X, y, test_size = 0.2, random_state = 0)"
   ]
  },
  {
   "cell_type": "markdown",
   "id": "86b91e66",
   "metadata": {},
   "source": [
    "### fitting model to training set"
   ]
  },
  {
   "cell_type": "code",
   "execution_count": 111,
   "id": "5108c451",
   "metadata": {},
   "outputs": [
    {
     "data": {
      "text/plain": [
       "LinearRegression()"
      ]
     },
     "execution_count": 111,
     "metadata": {},
     "output_type": "execute_result"
    }
   ],
   "source": [
    "# Fitting Multiple Linear Regression to the Training set\n",
    "from sklearn.linear_model import LinearRegression\n",
    "regressor = LinearRegression()\n",
    "regressor.fit(X_train, y_train)"
   ]
  },
  {
   "cell_type": "markdown",
   "id": "22cef4e7",
   "metadata": {},
   "source": [
    "### predicting the test dataset"
   ]
  },
  {
   "cell_type": "code",
   "execution_count": 112,
   "id": "80ed30f1",
   "metadata": {},
   "outputs": [
    {
     "data": {
      "text/plain": [
       "array([ 89624.88499983,  88261.44060358,  94728.57723845, 176034.49990954,\n",
       "        83234.84214495, 110393.04058199, 131831.18880607,  91307.52461765,\n",
       "       164414.26754671,  53585.35570743,  66786.11950078, 150921.89704628,\n",
       "       126746.78121459,  59174.341725  , 177341.80724482,  75139.98127599,\n",
       "       118605.9491146 , 164403.24374731, 171336.34862472, 181885.06087421,\n",
       "       118762.26624783,  85504.5201526 , 181345.84072646,  83979.76201107,\n",
       "       104839.00200137, 101067.00608604,  53722.31401539,  56706.45386115,\n",
       "        68732.18107141, 209811.34272095, 121136.34391499, 111557.54775873,\n",
       "       101309.70393418, 138315.39958078,  63806.10546728, 108690.79660343,\n",
       "       185830.38310114, 171796.58186122, 174997.97325294, 118029.33822338,\n",
       "        96553.52264734, 165281.03076793, 107557.31012676,  50557.29080259,\n",
       "       116871.82636073,  58469.02312669, 158771.35516035,  78902.17488961,\n",
       "       160082.45834529, 131494.74562654, 185233.67354483, 174962.79318566,\n",
       "        93579.64586335,  78164.61392891, 180561.94494338,  84821.87449117,\n",
       "       143256.92009399, 170435.21728058,  84188.13777206, 105128.89266268,\n",
       "       142016.17711741,  52352.69882961, 141673.45079288, 138995.34025103,\n",
       "        98128.17857189, 113945.01159246, 126574.18191679, 151953.63890674,\n",
       "        58689.41162929, 174639.30763053, 124455.78288593, 168894.28704729,\n",
       "        91639.09627154, 155988.19861521,  84141.93382092,  77701.26598966,\n",
       "       120771.67191431,  93202.83024556, 138851.31833079, 143435.03120172,\n",
       "       171502.27009022, 139913.58651319, 106191.16076064, 155470.92422805,\n",
       "       139849.10179055, 109994.04650482,  69508.71795972,  87971.28828425,\n",
       "       139964.21158468, 148297.48006333, 157734.33411496,  58369.48912141,\n",
       "        93529.74798521, 113004.58676514,  56381.2521726 , 107236.26789414,\n",
       "       147708.49291933, 151962.21946809, 167625.09747992, 118582.41810675,\n",
       "       121120.89899524, 139386.24824009, 157345.63664385, 122319.5973879 ,\n",
       "        86914.16840487, 105151.69639275,  95157.47229309, 178205.73461428,\n",
       "       181770.2127381 , 109652.54183621, 165082.82081555, 167634.66689263,\n",
       "       157820.13925373, 174599.34276711, 170025.19931955,  52139.17476133,\n",
       "       176766.05450263, 104585.0186007 ,  82545.09933122, 138709.60895693,\n",
       "       144630.66101185, 162033.66822962, 170016.12436942, 120808.56812142,\n",
       "       159235.56115351, 110046.51849225, 169491.36019494,  60596.99166217,\n",
       "       158866.23532304, 157998.74491915, 174328.19840197, 156112.61616403,\n",
       "       103547.63396397,  85458.91251291, 141434.05433182, 165734.80936825,\n",
       "       121539.62832572, 170562.43564135, 100864.86949721,  82457.94166529,\n",
       "       178471.00347238, 101623.88174527,  70331.4587885 ,  90072.65723255,\n",
       "        61072.22154665,  68736.34043862,  73136.92467492, 176742.02902153,\n",
       "        90064.57113377, 128998.71699737,  93032.57243205,  88583.13235127,\n",
       "       172664.56674901,  60729.9896911 , 169370.01131309, 166278.94500381,\n",
       "       165779.92245025, 102529.4900122 , 181410.55817988,  74063.62063787,\n",
       "        91101.59217916, 135622.46937921,  64747.25748795,  71599.65942006,\n",
       "        60428.68269046, 184641.61773385, 176640.28450044, 158725.38392932,\n",
       "       141178.22408898, 154429.11848164,  58374.50655107,  90978.39637071,\n",
       "       152703.57620466, 168752.21397631,  72309.26825255, 116422.20721207,\n",
       "        80448.38430783, 149647.19558454, 116627.64518798, 130022.82306379,\n",
       "       174888.14264374, 293492.48984534, 146100.99822157, 150464.91899219,\n",
       "        86467.61783875,  70328.52100342,  70458.08685528,  68869.46933558,\n",
       "       120487.1622868 ,  89500.33665356, 167178.54698757, 125346.44063256,\n",
       "        67033.96565195, 140708.04064616, 118376.48566826, 165726.35967814,\n",
       "       169009.62956152, 146839.78084885, 141215.12028542, 108907.75284131])"
      ]
     },
     "execution_count": 112,
     "metadata": {},
     "output_type": "execute_result"
    }
   ],
   "source": [
    "# Predicting the Test set results\n",
    "y_pred = regressor.predict(X_test)\n",
    "y_pred"
   ]
  },
  {
   "cell_type": "markdown",
   "id": "f5d5d42f",
   "metadata": {},
   "source": [
    "### finding coefficients and intercepts"
   ]
  },
  {
   "cell_type": "code",
   "execution_count": 113,
   "id": "0d5355b2",
   "metadata": {},
   "outputs": [
    {
     "name": "stdout",
     "output_type": "stream",
     "text": [
      "[ 5.27572958e-01  8.44490415e-01  1.06639226e-01 -3.54869857e+02]\n"
     ]
    }
   ],
   "source": [
    "# Calculating the Coefficients\n",
    "print(regressor.coef_)"
   ]
  },
  {
   "cell_type": "code",
   "execution_count": 114,
   "id": "cfafff65",
   "metadata": {},
   "outputs": [
    {
     "name": "stdout",
     "output_type": "stream",
     "text": [
      "-51144.72642572198\n"
     ]
    }
   ],
   "source": [
    "# Calculating the Intercept\n",
    "print(regressor.intercept_)"
   ]
  },
  {
   "cell_type": "markdown",
   "id": "9c9e42fe",
   "metadata": {},
   "source": [
    "### evaluating the model"
   ]
  },
  {
   "cell_type": "code",
   "execution_count": 115,
   "id": "fe91664f",
   "metadata": {},
   "outputs": [
    {
     "data": {
      "text/plain": [
       "0.9112595959622046"
      ]
     },
     "execution_count": 115,
     "metadata": {},
     "output_type": "execute_result"
    }
   ],
   "source": [
    "# Calculating the R squared value\n",
    "from sklearn.metrics import r2_score\n",
    "r2_score(y_test, y_pred)"
   ]
  },
  {
   "cell_type": "markdown",
   "id": "8ac33374",
   "metadata": {},
   "source": [
    "The R2 was at 80.5% with the Administration variable excluded.\n",
    "\n",
    "After including the Administration variable, the R2 increased to 91.1%"
   ]
  },
  {
   "cell_type": "code",
   "execution_count": null,
   "id": "ab5ba144",
   "metadata": {},
   "outputs": [],
   "source": []
  }
 ],
 "metadata": {
  "kernelspec": {
   "display_name": "Python 3",
   "language": "python",
   "name": "python3"
  },
  "language_info": {
   "codemirror_mode": {
    "name": "ipython",
    "version": 3
   },
   "file_extension": ".py",
   "mimetype": "text/x-python",
   "name": "python",
   "nbconvert_exporter": "python",
   "pygments_lexer": "ipython3",
   "version": "3.8.8"
  }
 },
 "nbformat": 4,
 "nbformat_minor": 5
}
